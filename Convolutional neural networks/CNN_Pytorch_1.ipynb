{
  "cells": [
    {
      "cell_type": "markdown",
      "metadata": {
        "id": "M3JZU5oD43hD"
      },
      "source": [
        "# PyTorch: Training A Convolutional Neural Network (CNN)"
      ]
    },
    {
      "cell_type": "code",
      "source": [
        "import torch\n",
        "import torch.nn as nn\n",
        "import torch.optim as optim\n",
        "import torchvision"
      ],
      "metadata": {
        "id": "rpaIsHJhNzTR"
      },
      "execution_count": 5,
      "outputs": []
    },
    {
      "cell_type": "code",
      "source": [
        "transform = torchvision.transforms.Compose([torchvision.transforms.ToTensor()])\n",
        "\n",
        "trainset = torchvision.datasets.CIFAR10(root='./data', train=True, download=True, transform=transform)\n",
        "testset = torchvision.datasets.CIFAR10(root='./data', train=False, download=True, transform=transform)\n",
        "\n",
        "batch_size = 32\n",
        "trainloader = torch.utils.data.DataLoader(trainset, batch_size=batch_size, shuffle=True)\n",
        "testloader = torch.utils.data.DataLoader(trainset, batch_size=batch_size, shuffle=True)"
      ],
      "metadata": {
        "colab": {
          "base_uri": "https://localhost:8080/"
        },
        "id": "bj5xMAQZN0ZP",
        "outputId": "341672e0-931c-4e85-da3b-2b34f460cd24"
      },
      "execution_count": 6,
      "outputs": [
        {
          "output_type": "stream",
          "name": "stdout",
          "text": [
            "Files already downloaded and verified\n",
            "Files already downloaded and verified\n"
          ]
        }
      ]
    },
    {
      "cell_type": "code",
      "source": [
        "class CIFAR10Model(nn.Module):\n",
        "    def __init__(self):\n",
        "        super().__init__()\n",
        "        self.conv1 = nn.Conv2d(3, 32, kernel_size=(3,3), stride=1, padding=1)\n",
        "        self.act1 = nn.ReLU()\n",
        "        self.drop1 = nn.Dropout(0.3)\n",
        "\n",
        "        self.conv2 = nn.Conv2d(32, 32, kernel_size=(3,3), stride=1, padding=1)\n",
        "        self.act2 = nn.ReLU()\n",
        "        self.pool2 = nn.MaxPool2d(kernel_size=(2, 2))\n",
        "\n",
        "        self.flat = nn.Flatten()\n",
        "\n",
        "        self.fc3 = nn.Linear(8192, 512)\n",
        "        self.act3 = nn.ReLU()\n",
        "        self.drop3 = nn.Dropout(0.5)\n",
        "\n",
        "        self.fc4 = nn.Linear(512, 10)\n",
        "\n",
        "    def forward(self, x):\n",
        "        # input 3x32x32, output 32x32x32\n",
        "        x = self.act1(self.conv1(x))\n",
        "        x = self.drop1(x)\n",
        "        # input 32x32x32, output 32x32x32\n",
        "        x = self.act2(self.conv2(x))\n",
        "        # input 32x32x32, output 32x16x16\n",
        "        x = self.pool2(x)\n",
        "        # input 32x16x16, output 8192\n",
        "        x = self.flat(x)\n",
        "        # input 8192, output 512\n",
        "        x = self.act3(self.fc3(x))\n",
        "        x = self.drop3(x)\n",
        "        # input 512, output 10\n",
        "        x = self.fc4(x)\n",
        "        return x\n",
        "\n"
      ],
      "metadata": {
        "id": "ypVtHbHINxcg"
      },
      "execution_count": 7,
      "outputs": []
    },
    {
      "cell_type": "code",
      "source": [
        "model = CIFAR10Model()\n",
        "loss_fn = nn.CrossEntropyLoss()\n",
        "optimizer = optim.SGD(model.parameters(), lr=0.001, momentum=0.9)\n",
        "\n",
        "n_epochs = 10\n",
        "for epoch in range(n_epochs):\n",
        "    for inputs, labels in trainloader:\n",
        "        # forward, backward, and then weight update\n",
        "        y_pred = model(inputs)\n",
        "        loss = loss_fn(y_pred, labels)\n",
        "        optimizer.zero_grad()\n",
        "        loss.backward()\n",
        "        optimizer.step()\n",
        "\n",
        "    acc = 0\n",
        "    count = 0\n",
        "    for inputs, labels in testloader:\n",
        "        y_pred = model(inputs)\n",
        "        acc += (torch.argmax(y_pred, 1) == labels).float().sum()\n",
        "        count += len(labels)\n",
        "    acc /= count\n",
        "    print(\"Epoch %d: model accuracy %.2f%%\" % (epoch, acc*100))\n",
        "\n",
        "torch.save(model.state_dict(), \"cifar10model.pth\")"
      ],
      "metadata": {
        "id": "cAWyuc4sN6z3"
      },
      "execution_count": null,
      "outputs": []
    },
    {
      "cell_type": "code",
      "source": [
        "transform = torchvision.transforms.Compose([torchvision.transforms.ToTensor()])\n",
        "\n",
        "trainset = torchvision.datasets.CIFAR10(root='./data', train=True, download=True, transform=transform)\n",
        "testset = torchvision.datasets.CIFAR10(root='./data', train=False, download=True, transform=transform)"
      ],
      "metadata": {
        "id": "LIAA8yN-D6s0"
      },
      "execution_count": null,
      "outputs": []
    },
    {
      "cell_type": "code",
      "source": [
        "acc += (torch.argmax(y_pred, 1) == labels).float().sum()"
      ],
      "metadata": {
        "id": "-SXlGRBTEGC6"
      },
      "execution_count": null,
      "outputs": []
    },
    {
      "cell_type": "code",
      "source": [
        "import matplotlib.pyplot as plt\n",
        "\n",
        "plt.imshow(trainset.data[7])\n",
        "plt.show()"
      ],
      "metadata": {
        "id": "RGMoIGx-EInb"
      },
      "execution_count": null,
      "outputs": []
    },
    {
      "cell_type": "code",
      "source": [
        "X = torch.tensor([trainset.data[7]], dtype=torch.float32).permute(0,3,1,2)\n",
        "model.eval()\n",
        "with torch.no_grad():\n",
        "    feature_maps = model.conv1(X)"
      ],
      "metadata": {
        "id": "uyVdTO35EQnm"
      },
      "execution_count": null,
      "outputs": []
    },
    {
      "cell_type": "code",
      "source": [
        "fig, ax = plt.subplots(4, 8, sharex=True, sharey=True, figsize=(16,8))\n",
        "for i in range(0, 32):\n",
        "    row, col = i//8, i%8\n",
        "    ax[row][col].imshow(feature_maps[0][i])\n",
        "plt.show()"
      ],
      "metadata": {
        "id": "epyf0eocEXHP"
      },
      "execution_count": null,
      "outputs": []
    },
    {
      "cell_type": "code",
      "source": [
        "X = torch.tensor([trainset.data[7]], dtype=torch.float32).permute(0,3,1,2)\n",
        "\n",
        "model.eval()\n",
        "with torch.no_grad():\n",
        "    feature_maps = model.act1(model.conv1(X))\n",
        "    feature_maps = model.drop1(feature_maps)\n",
        "    feature_maps = model.conv2(feature_maps)\n",
        "\n",
        "fig, ax = plt.subplots(4, 8, sharex=True, sharey=True, figsize=(16,8))\n",
        "for i in range(0, 32):\n",
        "    row, col = i//8, i%8\n",
        "    ax[row][col].imshow(feature_maps[0][i])\n",
        "plt.show()"
      ],
      "metadata": {
        "id": "ggUGkSt_EbT-"
      },
      "execution_count": null,
      "outputs": []
    },
    {
      "cell_type": "code",
      "source": [
        "import torch\n",
        "import torch.nn as nn\n",
        "import torchvision\n",
        "import matplotlib.pyplot as plt\n",
        "\n",
        "trainset = torchvision.datasets.CIFAR10(root='./data', train=True, download=True)\n",
        "\n",
        "class CIFAR10Model(nn.Module):\n",
        "    def __init__(self):\n",
        "        super().__init__()\n",
        "        self.conv1 = nn.Conv2d(3, 32, kernel_size=(3,3), stride=1, padding=1)\n",
        "        self.act1 = nn.ReLU()\n",
        "        self.drop1 = nn.Dropout(0.3)\n",
        "\n",
        "        self.conv2 = nn.Conv2d(32, 32, kernel_size=(3,3), stride=1, padding=1)\n",
        "        self.act2 = nn.ReLU()\n",
        "        self.pool2 = nn.MaxPool2d(kernel_size=(2, 2))\n",
        "\n",
        "        self.flat = nn.Flatten()\n",
        "\n",
        "        self.fc3 = nn.Linear(8192, 512)\n",
        "        self.act3 = nn.ReLU()\n",
        "        self.drop3 = nn.Dropout(0.5)\n",
        "\n",
        "        self.fc4 = nn.Linear(512, 10)\n",
        "\n",
        "    def forward(self, x):\n",
        "        # input 3x32x32, output 32x32x32\n",
        "        x = self.act1(self.conv1(x))\n",
        "        x = self.drop1(x)\n",
        "        # input 32x32x32, output 32x32x32\n",
        "        x = self.act2(self.conv2(x))\n",
        "        # input 32x32x32, output 32x16x16\n",
        "        x = self.pool2(x)\n",
        "        # input 32x16x16, output 8192\n",
        "        x = self.flat(x)\n",
        "        # input 8192, output 512\n",
        "        x = self.act3(self.fc3(x))\n",
        "        x = self.drop3(x)\n",
        "        # input 512, output 10\n",
        "        x = self.fc4(x)\n",
        "        return x\n",
        "\n",
        "model = CIFAR10Model()\n",
        "model.load_state_dict(torch.load(\"cifar10model.pth\"))\n",
        "\n",
        "plt.imshow(trainset.data[7])\n",
        "plt.show()\n",
        "\n",
        "X = torch.tensor([trainset.data[7]], dtype=torch.float32).permute(0,3,1,2)\n",
        "model.eval()\n",
        "with torch.no_grad():\n",
        "    feature_maps = model.conv1(X)\n",
        "fig, ax = plt.subplots(4, 8, sharex=True, sharey=True, figsize=(16,8))\n",
        "for i in range(0, 32):\n",
        "    row, col = i//8, i%8\n",
        "    ax[row][col].imshow(feature_maps[0][i])\n",
        "plt.show()\n",
        "\n",
        "with torch.no_grad():\n",
        "    feature_maps = model.act1(model.conv1(X))\n",
        "    feature_maps = model.drop1(feature_maps)\n",
        "    feature_maps = model.conv2(feature_maps)\n",
        "fig, ax = plt.subplots(4, 8, sharex=True, sharey=True, figsize=(16,8))\n",
        "for i in range(0, 32):\n",
        "    row, col = i//8, i%8\n",
        "    ax[row][col].imshow(feature_maps[0][i])\n",
        "plt.show()"
      ],
      "metadata": {
        "id": "4TNYMkP9Ed6k"
      },
      "execution_count": null,
      "outputs": []
    }
  ],
  "metadata": {
    "colab": {
      "provenance": []
    },
    "kernelspec": {
      "display_name": "Python 3",
      "name": "python3"
    },
    "language_info": {
      "name": "python"
    }
  },
  "nbformat": 4,
  "nbformat_minor": 0
}